{
 "cells": [
  {
   "cell_type": "markdown",
   "metadata": {},
   "source": [
    "#### if...else..."
   ]
  },
  {
   "cell_type": "code",
   "execution_count": 7,
   "metadata": {},
   "outputs": [
    {
     "name": "stdout",
     "output_type": "stream",
     "text": [
      "不及格\n",
      "丁\n"
     ]
    }
   ],
   "source": [
    "scores = int(input('請輸入學生分數0~100'))\n",
    "if scores >= 60:\n",
    "    print('及格')\n",
    "    if scores >= 90:\n",
    "        print('優')\n",
    "    else:\n",
    "        print('一般')\n",
    "else:\n",
    "    print('不及格')\n",
    "    if scores >= 50:\n",
    "        print('丙')\n",
    "    else:\n",
    "        print('丁')"
   ]
  },
  {
   "cell_type": "code",
   "execution_count": 16,
   "metadata": {},
   "outputs": [
    {
     "name": "stdout",
     "output_type": "stream",
     "text": [
      "丁\n"
     ]
    }
   ],
   "source": [
    "scores = int(input(\"請輸入學生分數0~100\"))\n",
    "if scores >= 90:\n",
    "    print('優')\n",
    "else:\n",
    "    if scores >= 80:\n",
    "        print('甲')\n",
    "    else:\n",
    "        if scores >= 70:\n",
    "            print('乙')\n",
    "        else:\n",
    "            if scores >= 60:\n",
    "                print('丙')\n",
    "            else:\n",
    "                print('丁')"
   ]
  },
  {
   "cell_type": "code",
   "execution_count": 15,
   "metadata": {},
   "outputs": [
    {
     "name": "stdout",
     "output_type": "stream",
     "text": [
      "優\n"
     ]
    }
   ],
   "source": [
    "#多項選擇\n",
    "scores = int(input('請輸入學生分數0~100'))\n",
    "if scores >= 90:\n",
    "    print('優')\n",
    "elif scores >= 80:\n",
    "    print('甲')\n",
    "elif scores >= 70:\n",
    "    print('乙')\n",
    "elif scores >= 60:\n",
    "    print('丙')\n",
    "else:\n",
    "    print('丁')"
   ]
  },
  {
   "cell_type": "code",
   "execution_count": 10,
   "metadata": {},
   "outputs": [
    {
     "name": "stdout",
     "output_type": "stream",
     "text": [
      "您的BMI值:27.7\n",
      "您的體重：輕度肥胖\n"
     ]
    }
   ],
   "source": [
    "try:\n",
    "    hight = eval(input('請輸入身高(cm):'))\n",
    "    weight = eval(input('請輸入體重(kg):'))\n",
    "    BMI = weight / ((hight * 0.01) ** 2)\n",
    "    print(f\"您的BMI值:{BMI:.1f}\")\n",
    "    if BMI >= 35:\n",
    "        print('您的體重：重度肥胖')\n",
    "    elif BMI >= 30:\n",
    "        print('您的體重：中度肥胖')\n",
    "    elif BMI >= 27:\n",
    "        print('您的體重：輕度肥胖')\n",
    "    elif BMI >= 24:\n",
    "        print('您的體重：過重')\n",
    "    elif BMI >= 18.5:\n",
    "        print('您的體重：正常')\n",
    "    else:\n",
    "        print('您的體重：過輕')\n",
    "except SyntaxError:\n",
    "    print('格式錯誤,結束程式')"
   ]
  }
 ],
 "metadata": {
  "kernelspec": {
   "display_name": "Python 3",
   "language": "python",
   "name": "python3"
  },
  "language_info": {
   "codemirror_mode": {
    "name": "ipython",
    "version": 3
   },
   "file_extension": ".py",
   "mimetype": "text/x-python",
   "name": "python",
   "nbconvert_exporter": "python",
   "pygments_lexer": "ipython3",
   "version": "3.10.15"
  }
 },
 "nbformat": 4,
 "nbformat_minor": 2
}
