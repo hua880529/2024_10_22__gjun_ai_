{
 "cells": [
  {
   "cell_type": "markdown",
   "metadata": {},
   "source": [
    "### if\n",
    "- 單項選擇(if:) : 只有true\n",
    "- 多項選擇(if: 、 else:) : 有True 、False "
   ]
  },
  {
   "cell_type": "code",
   "execution_count": 1,
   "metadata": {},
   "outputs": [
    {
     "name": "stdout",
     "output_type": "stream",
     "text": [
      "這是假的\n"
     ]
    }
   ],
   "source": [
    "if 5!=5:\n",
    "    print(\"這是真的\")\n",
    "else:\n",
    "    print(\"這是假的\")"
   ]
  },
  {
   "cell_type": "code",
   "execution_count": 4,
   "metadata": {},
   "outputs": [
    {
     "name": "stdout",
     "output_type": "stream",
     "text": [
      "成年\n",
      "執行結束\n"
     ]
    }
   ],
   "source": [
    "age = int(input(\"請輸入age:\"))\n",
    "if age >= 18:\n",
    "    print(\"成年\")\n",
    "print(\"執行結束\")"
   ]
  },
  {
   "cell_type": "code",
   "execution_count": 5,
   "metadata": {},
   "outputs": [
    {
     "name": "stdout",
     "output_type": "stream",
     "text": [
      "成年\n",
      "執行結束\n"
     ]
    }
   ],
   "source": [
    "age = int(input(\"請輸入age:\"))\n",
    "if age >= 18:\n",
    "    print(\"成年\")\n",
    "else:\n",
    "    print(\"未成年\")\n",
    "print(\"執行結束\")"
   ]
  },
  {
   "cell_type": "code",
   "execution_count": 6,
   "metadata": {},
   "outputs": [
    {
     "data": {
      "text/plain": [
       "72"
      ]
     },
     "execution_count": 6,
     "metadata": {},
     "output_type": "execute_result"
    }
   ],
   "source": [
    "max([10, 21, 52, 9, 35, 72])"
   ]
  },
  {
   "cell_type": "code",
   "execution_count": 7,
   "metadata": {},
   "outputs": [
    {
     "data": {
      "text/plain": [
       "9"
      ]
     },
     "execution_count": 7,
     "metadata": {},
     "output_type": "execute_result"
    }
   ],
   "source": [
    "min([10, 21, 52, 9, 35, 72])"
   ]
  },
  {
   "cell_type": "code",
   "execution_count": 1,
   "metadata": {},
   "outputs": [
    {
     "name": "stdout",
     "output_type": "stream",
     "text": [
      "10.0 公斤 = 22.04 磅\n"
     ]
    }
   ],
   "source": [
    "# 公斤轉換為磅\n",
    "kilograms = float(input(\"請輸入公斤：\"))\n",
    "pounds = 2.20426 * kilograms\n",
    "print(f'{kilograms} 公斤 = {pounds:.2f} 磅')"
   ]
  },
  {
   "cell_type": "code",
   "execution_count": 2,
   "metadata": {},
   "outputs": [
    {
     "name": "stdout",
     "output_type": "stream",
     "text": [
      "10.0 磅 = 4.54 公斤\n"
     ]
    }
   ],
   "source": [
    "# 磅轉換為公斤\n",
    "pounds = float(input(\"請輸入磅：\"))\n",
    "kilograms = pounds / 2.20426\n",
    "print(f'{pounds} 磅 = {kilograms:.2f} 公斤')"
   ]
  }
 ],
 "metadata": {
  "kernelspec": {
   "display_name": "Python 3",
   "language": "python",
   "name": "python3"
  },
  "language_info": {
   "codemirror_mode": {
    "name": "ipython",
    "version": 3
   },
   "file_extension": ".py",
   "mimetype": "text/x-python",
   "name": "python",
   "nbconvert_exporter": "python",
   "pygments_lexer": "ipython3",
   "version": "3.10.15"
  }
 },
 "nbformat": 4,
 "nbformat_minor": 2
}
