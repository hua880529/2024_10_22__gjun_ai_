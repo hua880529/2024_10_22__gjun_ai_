{
 "cells": [
  {
   "cell_type": "markdown",
   "metadata": {},
   "source": [
    "### 有input的數學運算"
   ]
  },
  {
   "cell_type": "code",
   "execution_count": 2,
   "metadata": {},
   "outputs": [
    {
     "name": "stdout",
     "output_type": "stream",
     "text": [
      "上底:3,下底:5,高:6\n",
      "面積:24.0\n"
     ]
    }
   ],
   "source": [
    "#求梯型面積\n",
    "top = int(input(\"請輸入上底:\"))\n",
    "bottom = int(input(\"請輸入下底:\"))\n",
    "height = int(input(\"請輸入高:\"))\n",
    "\n",
    "area = (top + bottom) * height / 2\n",
    "print(f'上底:{top},下底:{bottom},高:{height}')\n",
    "print(f'面積:{area}')"
   ]
  },
  {
   "cell_type": "code",
   "execution_count": 5,
   "metadata": {},
   "outputs": [
    {
     "name": "stdout",
     "output_type": "stream",
     "text": [
      "半徑:6.8,面積=143.99874082879998\n"
     ]
    }
   ],
   "source": [
    " #求圓面積\n",
    "radius = float(input('請輸入半徑:'))\n",
    "pi = 3.11415962\n",
    "print(f\"半徑:{radius},面積={pi * radius ** 2}\")"
   ]
  },
  {
   "cell_type": "code",
   "execution_count": 6,
   "metadata": {},
   "outputs": [
    {
     "name": "stdout",
     "output_type": "stream",
     "text": [
      "半徑:5.8,面積=105.68\n"
     ]
    }
   ],
   "source": [
    "#求圓面積\n",
    "radius = float(input('請輸入半徑:'))\n",
    "pi = 3.1415962\n",
    "area = pi * radius ** 2\n",
    "print(f\"半徑:{radius},面積={area:.2f}\") # :.2f 表示只顯示小數點後兩位(只能用在浮點數時)"
   ]
  },
  {
   "cell_type": "code",
   "execution_count": 7,
   "metadata": {},
   "outputs": [
    {
     "name": "stdout",
     "output_type": "stream",
     "text": [
      "角度是:30.0\n"
     ]
    }
   ],
   "source": [
    "import math #使用python的標準函式庫需先import\n",
    "side = float(input(\"請輸入對邊:\"))\n",
    "another_side = float(input(\"請輸入斜邊:\"))\n",
    "radian = math.asin(side / another_side) #asin的算法\n",
    "degree = math.degrees(radian) #計算角度的算法\n",
    "print(f'角度是:{round(degree,ndigits=2)}') #round():四捨五入到n位數的寫法"
   ]
  }
 ],
 "metadata": {
  "kernelspec": {
   "display_name": "Python 3",
   "language": "python",
   "name": "python3"
  },
  "language_info": {
   "codemirror_mode": {
    "name": "ipython",
    "version": 3
   },
   "file_extension": ".py",
   "mimetype": "text/x-python",
   "name": "python",
   "nbconvert_exporter": "python",
   "pygments_lexer": "ipython3",
   "version": "3.10.15"
  }
 },
 "nbformat": 4,
 "nbformat_minor": 2
}
