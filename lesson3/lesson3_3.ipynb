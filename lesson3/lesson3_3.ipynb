{
 "cells": [
  {
   "cell_type": "markdown",
   "metadata": {},
   "source": [
    "### 有input的數學運算"
   ]
  },
  {
   "cell_type": "code",
   "execution_count": 1,
   "metadata": {},
   "outputs": [
    {
     "name": "stdout",
     "output_type": "stream",
     "text": [
      "上底:3,下底:5,高:2\n",
      "面積:8.0\n"
     ]
    }
   ],
   "source": [
    "#求梯型面積\n",
    "top = int(input(\"請輸入上底:\"))\n",
    "bottom = int(input(\"請輸入下底:\"))\n",
    "height = int(input(\"請輸入高:\"))\n",
    "\n",
    "area = (top + bottom) * height / 2\n",
    "print(f'上底:{top},下底:{bottom},高:{height}')\n",
    "print(f'面積:{area}')"
   ]
  }
 ],
 "metadata": {
  "kernelspec": {
   "display_name": "Python 3",
   "language": "python",
   "name": "python3"
  },
  "language_info": {
   "codemirror_mode": {
    "name": "ipython",
    "version": 3
   },
   "file_extension": ".py",
   "mimetype": "text/x-python",
   "name": "python",
   "nbconvert_exporter": "python",
   "pygments_lexer": "ipython3",
   "version": "3.10.15"
  }
 },
 "nbformat": 4,
 "nbformat_minor": 2
}
