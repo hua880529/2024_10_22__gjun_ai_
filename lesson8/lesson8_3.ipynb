{
 "cells": [
  {
   "cell_type": "code",
   "execution_count": 1,
   "metadata": {},
   "outputs": [
    {
     "name": "stdout",
     "output_type": "stream",
     "text": [
      "張明惟\n",
      "彭茹靖\n",
      "張明惟\n",
      "胡淑貞\n",
      "林思賢\n"
     ]
    }
   ],
   "source": [
    "import random\n",
    "def get_names(nums:int=2)->list[str]:\n",
    "    with open('names.txt',mode='r',encoding='utf-8') as file:\n",
    "        names_str = file.read()\n",
    "    names:list[str] = names_str.split(sep='\\n')\n",
    "    names = random.choices(names,k=nums)\n",
    "    return names\n",
    "\n",
    "nums = int(input('請輸入學生數量(最多10為):'))\n",
    "student_names:list[str] = get_names(nums=nums)\n",
    "for name in student_names:\n",
    "    print(name)"
   ]
  },
  {
   "cell_type": "code",
   "execution_count": 7,
   "metadata": {},
   "outputs": [],
   "source": [
    "def generate_students(names:list[str]) -> list[dict]:\n",
    "    for name in names:\n",
    "        print(name)\n",
    "        chinese = random.randint(50,100)\n",
    "        print(chinese)\n",
    "        english = random.randint(50,100)\n",
    "        print(english)\n",
    "        math = random.randint(50,100)\n",
    "        print(math)\n",
    "        print('=====================')"
   ]
  },
  {
   "cell_type": "code",
   "execution_count": 12,
   "metadata": {},
   "outputs": [
    {
     "name": "stdout",
     "output_type": "stream",
     "text": [
      "張明惟\n",
      "99\n",
      "78\n",
      "63\n",
      "=====================\n",
      "彭茹靖\n",
      "53\n",
      "57\n",
      "63\n",
      "=====================\n",
      "張明惟\n",
      "55\n",
      "78\n",
      "58\n",
      "=====================\n",
      "胡淑貞\n",
      "67\n",
      "77\n",
      "72\n",
      "=====================\n",
      "林思賢\n",
      "72\n",
      "59\n",
      "53\n",
      "=====================\n"
     ]
    }
   ],
   "source": [
    "generate_students(names=student_names)"
   ]
  }
 ],
 "metadata": {
  "kernelspec": {
   "display_name": "Python 3",
   "language": "python",
   "name": "python3"
  },
  "language_info": {
   "codemirror_mode": {
    "name": "ipython",
    "version": 3
   },
   "file_extension": ".py",
   "mimetype": "text/x-python",
   "name": "python",
   "nbconvert_exporter": "python",
   "pygments_lexer": "ipython3",
   "version": "3.10.15"
  }
 },
 "nbformat": 4,
 "nbformat_minor": 2
}
