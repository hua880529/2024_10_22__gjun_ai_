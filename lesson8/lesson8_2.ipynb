{
 "cells": [
  {
   "cell_type": "code",
   "execution_count": 1,
   "metadata": {},
   "outputs": [
    {
     "name": "stdout",
     "output_type": "stream",
     "text": [
      "[{'name': '陳得映', 'chinese': 50, 'english': 83, 'math': 86}, {'name': '姜琬婷', 'chinese': 57, 'english': 98, 'math': 52}, {'name': '陳彥治', 'chinese': 80, 'english': 75, 'math': 73}, {'name': '趙偉銘', 'chinese': 72, 'english': 66, 'math': 89}, {'name': '余丞苓', 'chinese': 70, 'english': 58, 'math': 86}]\n"
     ]
    }
   ],
   "source": [
    "import random\n",
    "def get_names(nums:int=2)->list[str]:\n",
    "    with open('names.txt',encoding='utf-8',mode='r') as file:\n",
    "        names_str = file.read()\n",
    "    names:list[str] = names_str.split(sep='\\n')\n",
    "    names = random.choices(names,k=nums)\n",
    "    return names\n",
    "\n",
    "def generate_students(names:list[str]) -> list[dict]:\n",
    "    students:list[dict] = []\n",
    "    for name in names:\n",
    "        chinese = random.randint(50, 100)\n",
    "        english = random.randint(50, 100)\n",
    "        math = random.randint(50, 100)\n",
    "        student = {'name':name,'chinese':chinese,'english':english,'math':math}\n",
    "        students.append(student)\n",
    "    return students  \n",
    "    \n",
    "\n",
    "\n",
    "nums = int(input('請輸入學生數量(最多10位):'))\n",
    "student_names:list[str] = get_names(nums=nums)\n",
    "students:list[dict] = generate_students(names=student_names)\n",
    "print(students)"
   ]
  }
 ],
 "metadata": {
  "kernelspec": {
   "display_name": "Python 3",
   "language": "python",
   "name": "python3"
  },
  "language_info": {
   "codemirror_mode": {
    "name": "ipython",
    "version": 3
   },
   "file_extension": ".py",
   "mimetype": "text/x-python",
   "name": "python",
   "nbconvert_exporter": "python",
   "pygments_lexer": "ipython3",
   "version": "3.10.15"
  }
 },
 "nbformat": 4,
 "nbformat_minor": 2
}
